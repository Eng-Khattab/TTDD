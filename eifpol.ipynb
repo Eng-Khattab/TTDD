{
 "cells": [
  {
   "cell_type": "code",
   "execution_count": 1,
   "metadata": {
    "scrolled": true
   },
   "outputs": [],
   "source": [
    "import csv \n",
    "import os\n",
    "import numpy as np\n",
    "import random\n",
    "from sklearn.metrics import roc_curve\n",
    "import math\n",
    "from matplotlib import pyplot\n",
    "import datetime\n",
    "from sklearn.metrics import auc, roc_curve, roc_auc_score\n",
    "import pandas as pd\n",
    "import matplotlib.pyplot as plt\n",
    "from dateutil.parser import parse \n",
    "import matplotlib as mpl\n",
    "import seaborn as sns\n",
    "from pandas import DataFrame\n",
    "from sklearn import preprocessing\n",
    "from sklearn.preprocessing import MinMaxScaler\n",
    "from statsmodels.tsa.stattools import adfuller, kpss\n",
    "from statsmodels.tsa.seasonal import seasonal_decompose\n",
    "from dateutil.parser import parse\n",
    "from scipy.signal import find_peaks\n",
    "import plotly.graph_objects as go\n",
    "from scipy import fft\n",
    "from scipy import signal as sig\n",
    "from scipy.stats import multivariate_normal\n",
    "from sklearn.datasets import make_classification\n",
    "from sklearn.model_selection import train_test_split\n",
    "from sklearn.datasets import make_classification\n",
    "from sklearn.metrics import f1_score\n",
    "from numpy import arange\n",
    "from math import sqrt\n",
    "from numpy import argmax\n",
    "import random as rn\n",
    "import h2o\n",
    "from sklearn.metrics import accuracy_score\n",
    "import seaborn as sb\n",
    "from sklearn.metrics import precision_recall_curve\n",
    "sb.set_style(style=\"whitegrid\")\n",
    "sb.set_color_codes()\n",
    "import scipy.ndimage\n",
    "from scipy.fftpack import rfft, irfft, fftfreq, fft, ifft"
   ]
  },
  {
   "cell_type": "code",
   "execution_count": 2,
   "metadata": {},
   "outputs": [
    {
     "name": "stdout",
     "output_type": "stream",
     "text": [
      "Checking whether there is an H2O instance running at http://localhost:54321 . connected.\n"
     ]
    },
    {
     "data": {
      "text/html": [
       "<div style=\"overflow:auto\"><table style=\"width:50%\"><tr><td>H2O_cluster_uptime:</td>\n",
       "<td>22 mins 17 secs</td></tr>\n",
       "<tr><td>H2O_cluster_timezone:</td>\n",
       "<td>Africa/Cairo</td></tr>\n",
       "<tr><td>H2O_data_parsing_timezone:</td>\n",
       "<td>UTC</td></tr>\n",
       "<tr><td>H2O_cluster_version:</td>\n",
       "<td>3.36.1.2</td></tr>\n",
       "<tr><td>H2O_cluster_version_age:</td>\n",
       "<td>13 days </td></tr>\n",
       "<tr><td>H2O_cluster_name:</td>\n",
       "<td>H2O_from_python_khattab_ky8yof</td></tr>\n",
       "<tr><td>H2O_cluster_total_nodes:</td>\n",
       "<td>1</td></tr>\n",
       "<tr><td>H2O_cluster_free_memory:</td>\n",
       "<td>1.717 Gb</td></tr>\n",
       "<tr><td>H2O_cluster_total_cores:</td>\n",
       "<td>4</td></tr>\n",
       "<tr><td>H2O_cluster_allowed_cores:</td>\n",
       "<td>4</td></tr>\n",
       "<tr><td>H2O_cluster_status:</td>\n",
       "<td>locked, healthy</td></tr>\n",
       "<tr><td>H2O_connection_url:</td>\n",
       "<td>http://localhost:54321</td></tr>\n",
       "<tr><td>H2O_connection_proxy:</td>\n",
       "<td>{\"http\": null, \"https\": null}</td></tr>\n",
       "<tr><td>H2O_internal_security:</td>\n",
       "<td>False</td></tr>\n",
       "<tr><td>Python_version:</td>\n",
       "<td>3.8.8 final</td></tr></table></div>"
      ],
      "text/plain": [
       "--------------------------  ------------------------------\n",
       "H2O_cluster_uptime:         22 mins 17 secs\n",
       "H2O_cluster_timezone:       Africa/Cairo\n",
       "H2O_data_parsing_timezone:  UTC\n",
       "H2O_cluster_version:        3.36.1.2\n",
       "H2O_cluster_version_age:    13 days\n",
       "H2O_cluster_name:           H2O_from_python_khattab_ky8yof\n",
       "H2O_cluster_total_nodes:    1\n",
       "H2O_cluster_free_memory:    1.717 Gb\n",
       "H2O_cluster_total_cores:    4\n",
       "H2O_cluster_allowed_cores:  4\n",
       "H2O_cluster_status:         locked, healthy\n",
       "H2O_connection_url:         http://localhost:54321\n",
       "H2O_connection_proxy:       {\"http\": null, \"https\": null}\n",
       "H2O_internal_security:      False\n",
       "Python_version:             3.8.8 final\n",
       "--------------------------  ------------------------------"
      ]
     },
     "metadata": {},
     "output_type": "display_data"
    }
   ],
   "source": [
    "import h2o\n",
    "from h2o.estimators import H2OExtendedIsolationForestEstimator\n",
    "h2o.init()\n",
    "\n"
   ]
  },
  {
   "cell_type": "code",
   "execution_count": 3,
   "metadata": {},
   "outputs": [],
   "source": [
    "import pandas as pd\n",
    "scaler = preprocessing.MinMaxScaler()\n",
    "\n",
    "df2= pd.read_csv(\"F://phd//download//TTDD-main//TTDD-main//SDWA_PUB_WATER_SYSTEM.csv\")\n",
    "polution=df2.values[:,0:3]\n",
    "\n"
   ]
  },
  {
   "cell_type": "code",
   "execution_count": 4,
   "metadata": {},
   "outputs": [
    {
     "name": "stdout",
     "output_type": "stream",
     "text": [
      "          0           1     2\n",
      "0      2014  Very Small   480\n",
      "1      2013  Very Small   480\n",
      "2      2012  Very Small   480\n",
      "3      2011  Very Small   480\n",
      "4      2015       Small  2445\n",
      "...     ...         ...   ...\n",
      "99995  2011  Very Small    25\n",
      "99996  2015       Small   870\n",
      "99997  2014  Very Small    25\n",
      "99998  2013  Very Small    25\n",
      "99999  2012  Very Small    25\n",
      "\n",
      "[100000 rows x 3 columns]\n",
      "             0\n",
      "0     0.001467\n",
      "1     0.001467\n",
      "2     0.001467\n",
      "3     0.007341\n",
      "4     0.000192\n",
      "...        ...\n",
      "9995  0.000190\n",
      "9996  0.000190\n",
      "9997  0.000190\n",
      "9998  0.000190\n",
      "9999  0.000635\n",
      "\n",
      "[10000 rows x 1 columns]\n"
     ]
    },
    {
     "data": {
      "text/plain": [
       "Text(0.5, 1.0, 'polution')"
      ]
     },
     "execution_count": 4,
     "metadata": {},
     "output_type": "execute_result"
    },
    {
     "data": {
      "text/plain": [
       "<Figure size 1600x800 with 0 Axes>"
      ]
     },
     "metadata": {},
     "output_type": "display_data"
    },
    {
     "data": {
      "image/png": "[encoded data removed]",
      "text/plain": [
       "<Figure size 432x288 with 1 Axes>"
      ]
     },
     "metadata": {},
     "output_type": "display_data"
    }
   ],
   "source": [
    "\n",
    "\n",
    "polution = pd.DataFrame(df2) \n",
    "#print(Nile)\n",
    "polution = DataFrame(polution.values[0:100000,0:3])\n",
    "print(polution)\n",
    "polutiontest = DataFrame(polution.values[20000:30000,2:3])\n",
    "polutiontest=DataFrame(scaler.fit_transform(polutiontest))\n",
    "poltest=polutiontest\n",
    "print(polutiontest)\n",
    "pol = DataFrame(polution.values[0:100000,2:3])\n",
    "pol=DataFrame(scaler.fit_transform(pol)) \n",
    "plt.figure(figsize=(20, 10), dpi=80)\n",
    "pol.plot()\n",
    "plt.xlabel('Index') \n",
    "plt.ylabel('Scaled Amplitude') \n",
    "plt.title(\"polution\", color='g')\n",
    "\n"
   ]
  },
  {
   "cell_type": "code",
   "execution_count": 5,
   "metadata": {},
   "outputs": [
    {
     "name": "stdout",
     "output_type": "stream",
     "text": [
      "Parse progress: |████████████████████████████████████████████████████████████████| (done) 100%\n",
      "isolationforest Model Build progress: |██████████████████████████████████████████| (done) 100%\n",
      "Parse progress: |████████████████████████████████████████████████████████████████| (done) 100%\n",
      "isolationforest prediction progress: |███████████████████████████████████████████| (done) 100%\n"
     ]
    }
   ],
   "source": [
    "\n",
    "\n",
    "\n",
    "from h2o.estimators import H2OIsolationForestEstimator\n",
    "from sklearn.metrics import confusion_matrix\n",
    "pol = h2o.H2OFrame(pol)\n",
    "\n",
    "pol=pol.fillna()\n",
    "\n",
    "\n",
    "predictors = pol.col_names\n",
    "\n",
    "\n",
    "# Define an Extended Isolation forest model\n",
    "\n",
    "\n",
    "\n",
    "\n",
    "model = H2OIsolationForestEstimator(sample_rate = 0.1,\n",
    "                                    max_depth = 20,\n",
    "                                    ntrees = 50)\n",
    "model.train(training_frame=pol)\n",
    "polutiontest = h2o.H2OFrame(polutiontest)\n",
    "\n",
    "\n",
    "score = model.predict(polutiontest.fillna())\n",
    "result_pred = score[\"predict\"]\n",
    "\n",
    "# Predict the leaf node assignment\n",
    "#anomaly_score = model.predict_leaf_node_assignment(testlevframe, \"Path\")\n",
    "\n",
    "\n",
    "\n"
   ]
  },
  {
   "cell_type": "code",
   "execution_count": 6,
   "metadata": {},
   "outputs": [
    {
     "name": "stdout",
     "output_type": "stream",
     "text": [
      "       predict\n",
      "0     0.180028\n",
      "1     0.180028\n",
      "2     0.180028\n",
      "3     0.336146\n",
      "4     0.057665\n",
      "...        ...\n",
      "9995  0.052039\n",
      "9996  0.052039\n",
      "9997  0.052039\n",
      "9998  0.052039\n",
      "9999  0.118143\n",
      "\n",
      "[10000 rows x 1 columns]\n",
      "Parse progress: |████████████████████████████████████████████████████████████████| (done) 100%\n",
      "0.9999283205504981\n",
      "Threshold value is: 0.8045007032348804\n"
     ]
    }
   ],
   "source": [
    "rr=polution.values[20000:30000,2:3]\n",
    "for j in range(0,10000):\n",
    " if (polution.values[j+20000,1:2]== 'Very Large' ):\n",
    "  rr[j] = 1\n",
    " else:\n",
    "  rr[j] =0\n",
    "\n",
    "\n",
    "dd=h2o.as_list(result_pred)\n",
    "dds=dd\n",
    "print(dds)\n",
    "ff=h2o.as_list(h2o.H2OFrame(rr))\n",
    "\n",
    "fpr, tpr, thresholds = roc_curve(ff,dd)\n",
    "\n",
    "print(roc_auc_score(ff,dd))\n",
    "optimal_idx = np.argmax(tpr - fpr)\n",
    "optimal_threshold = thresholds[optimal_idx]\n",
    "print(\"Threshold value is:\", optimal_threshold)\n"
   ]
  },
  {
   "cell_type": "code",
   "execution_count": 7,
   "metadata": {},
   "outputs": [],
   "source": [
    "testlevel=pd.DataFrame(ff[\"C1\"],columns=[\"C1\"])\n",
    "typlevel=pd.DataFrame(dd,columns=[\"anomaly_score\"])\n",
    "optimal_cond=optimal_threshold\n",
    "\n",
    "for j in range(len(typlevel)):\n",
    " #typlevel[j][\"mean_length\"] \n",
    " if typlevel[\"anomaly_score\"][j]>=optimal_threshold:\n",
    "   typlevel[\"anomaly_score\"][j]=1\n",
    " else:\n",
    "   typlevel[\"anomaly_score\"][j]  =0\n",
    "\n",
    "pp=(np.array(typlevel))"
   ]
  },
  {
   "cell_type": "code",
   "execution_count": 8,
   "metadata": {},
   "outputs": [
    {
     "name": "stdout",
     "output_type": "stream",
     "text": [
      "F1 Score: 0.997\n",
      "accuracy_score normalize: 0.997\n",
      "accuracy_score not normalize: 9965.000\n"
     ]
    }
   ],
   "source": [
    "from sklearn.metrics import f1_score\n",
    "score = f1_score ((typlevel.values[:,0:1]),ff, average='micro')\n",
    "score2=accuracy_score((typlevel.values[:,0:1]),ff, normalize=True)\n",
    "score3=accuracy_score((typlevel.values[:,0:1]),ff, normalize=False)\n",
    "print('F1 Score: %.3f' % score)\n",
    "print('accuracy_score normalize: %.3f' % score2)\n",
    "print('accuracy_score not normalize: %.3f' % score3)"
   ]
  },
  {
   "cell_type": "code",
   "execution_count": 9,
   "metadata": {},
   "outputs": [],
   "source": [
    "poltest.insert(0, 'id', range(1, 1 + len(ff)))\n",
    "x=pd.DataFrame((poltest.values[:,0:1]))\n",
    "y=pd.DataFrame((poltest.values[:,1:2]))\n",
    "rr=rr.flatten()\n"
   ]
  },
  {
   "cell_type": "code",
   "execution_count": 10,
   "metadata": {
    "scrolled": true
   },
   "outputs": [
    {
     "name": "stdout",
     "output_type": "stream",
     "text": [
      "[0.18002813 0.18002813 0.18002813 ... 0.05203938 0.05203938 0.11814346] [0 0 0 ... 0 0 0] 0.8045007032348804\n"
     ]
    },
    {
     "data": {
      "image/png": "[encoded data removed]",
      "text/plain": [
       "<Figure size 960x800 with 1 Axes>"
      ]
     },
     "metadata": {},
     "output_type": "display_data"
    }
   ],
   "source": [
    "zz=(np.array(dds))\n",
    "zz=zz.flatten()\n",
    "print(zz,rr,optimal_threshold)\n",
    "plt.figure(figsize=(12, 10), dpi=80)\n",
    "plt.scatter(x,y,color='blue')\n",
    "plt.scatter(x[rr[:]>=1],y[rr[:]>=1],c='red')\n",
    "plt.scatter(x[zz[:]>=1],y[zz[:]>=1],c='g')\n",
    "plt.title('Score data by EIF')\n",
    "plt.show()\n"
   ]
  },
  {
   "cell_type": "code",
   "execution_count": null,
   "metadata": {},
   "outputs": [],
   "source": []
  }
 ],
 "metadata": {
  "kernelspec": {
   "display_name": "Python 3",
   "language": "python",
   "name": "python3"
  },
  "language_info": {
   "codemirror_mode": {
    "name": "ipython",
    "version": 3
   },
   "file_extension": ".py",
   "mimetype": "text/x-python",
   "name": "python",
   "nbconvert_exporter": "python",
   "pygments_lexer": "ipython3",
   "version": "3.8.8"
  }
 },
 "nbformat": 4,
 "nbformat_minor": 4
}
